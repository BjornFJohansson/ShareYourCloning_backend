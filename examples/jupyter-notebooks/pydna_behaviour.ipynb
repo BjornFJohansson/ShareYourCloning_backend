{
 "cells": [
  {
   "cell_type": "markdown",
   "id": "51fdd0bb",
   "metadata": {},
   "source": [
    "# Pydna / Biopython behaviour\n",
    "\n",
    "Here some code chunks showing some important points from biopython / pydna"
   ]
  },
  {
   "cell_type": "markdown",
   "id": "397633f4",
   "metadata": {},
   "source": [
    "## How to know if a sequence is circular or linear\n",
    "\n",
    "This is important, and might not be straightforward from certain formats."
   ]
  },
  {
   "cell_type": "code",
   "execution_count": 40,
   "id": "3f92f495",
   "metadata": {},
   "outputs": [
    {
     "name": "stdout",
     "output_type": "stream",
     "text": [
      "pydna with gb: True\n",
      "seqio with snapgene, then convert to dseqrecord: False\n",
      "seqio with snapgene, then convert to dseqrecord: True\n"
     ]
    }
   ],
   "source": [
    "from pydna.parsers import parse as pydna_parse\n",
    "from Bio.SeqIO import read as seqio_read\n",
    "from pydna.dseqrecord import Dseqrecord\n",
    "# Pydna reader gets it right from the genbank file:\n",
    "dseqrecords = pydna_parse('../plasmids/addgene-plasmid-39296-sequence-49545.gbk')\n",
    "print('pydna with gb:',dseqrecords[0].circular)\n",
    "\n",
    "seqrecord = seqio_read('../plasmids/addgene-plasmid-39296-sequence-49545.dna','snapgene')\n",
    "\n",
    "# Simple conversion will not get right the fact that it is circular\n",
    "dseqrecord = Dseqrecord(seqrecord)\n",
    "print('seqio with snapgene, then convert to dseqrecord:',dseqrecord.circular)\n",
    "\n",
    "# Check in the properties to tell if the topology is circular\n",
    "iscircular = 'topology' in seqrecord.annotations.keys() and seqrecord.annotations['topology'] == 'circular'\n",
    "dseqrecord = Dseqrecord(seqrecord, circular=iscircular)\n",
    "print('seqio with snapgene, then convert to dseqrecord:',dseqrecord.circular)\n"
   ]
  },
  {
   "cell_type": "markdown",
   "id": "537a4464",
   "metadata": {},
   "source": [
    "## Restriction enzymes"
   ]
  },
  {
   "cell_type": "code",
   "execution_count": 2,
   "id": "1e550ab5",
   "metadata": {},
   "outputs": [
    {
     "name": "stdout",
     "output_type": "stream",
     "text": [
      "linear\n",
      "0\n",
      "7\n",
      "circular\n",
      "22\n",
      "40\n"
     ]
    }
   ],
   "source": [
    "# List of commercial enzymes\n",
    "from Bio.Restriction.Restriction import CommOnly\n",
    "from pydna.dseqrecord import Dseqrecord\n",
    "\n",
    "enzyme = CommOnly.format('EcoRI')\n",
    "\n",
    "# If we want to know where the enzymes cut in the original sequence\n",
    "# we use the dseq.cut() method rather than the dseqrecord.cut() one,\n",
    "# the resulting fragments have a dseq.pos parameter that indicates the\n",
    "# position of the fragment in the original sequence\n",
    "\n",
    "seq = 'AAAAAAGAATTCTTTTTTTT'\n",
    "dseq = Dseqrecord(seq,circular=False)\n",
    "cutted_list = dseq.seq.cut([enzyme])    \n",
    "print('linear')\n",
    "for i in cutted_list:\n",
    "    print(i.pos)\n",
    "\n",
    "seq = 'AAAAAAGAATTCTTTTTTAAAGAATTCCCCCCC'\n",
    "dseq = Dseqrecord(seq,circular=True)\n",
    "cutted_list = dseq.seq.cut([enzyme])\n",
    "print('circular')\n",
    "for i in cutted_list:\n",
    "    print(i.pos)\n"
   ]
  }
 ],
 "metadata": {
  "kernelspec": {
   "display_name": "ShareYourCloning_backend_fastAPI",
   "language": "python",
   "name": "shareyourcloning_backend_fastapi"
  },
  "language_info": {
   "codemirror_mode": {
    "name": "ipython",
    "version": 3
   },
   "file_extension": ".py",
   "mimetype": "text/x-python",
   "name": "python",
   "nbconvert_exporter": "python",
   "pygments_lexer": "ipython3",
   "version": "3.9.7"
  }
 },
 "nbformat": 4,
 "nbformat_minor": 5
}
