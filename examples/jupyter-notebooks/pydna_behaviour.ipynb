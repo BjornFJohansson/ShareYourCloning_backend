{
 "cells": [
  {
   "cell_type": "markdown",
   "id": "51fdd0bb",
   "metadata": {},
   "source": [
    "# Pydna / Biopython behaviour\n",
    "\n",
    "Here some code chunks showing some important points from biopython / pydna"
   ]
  },
  {
   "cell_type": "markdown",
   "id": "397633f4",
   "metadata": {},
   "source": [
    "## How to know if a sequence is circular or linear\n",
    "\n",
    "This is important, and might not be straightforward from certain formats."
   ]
  },
  {
   "cell_type": "code",
   "execution_count": 40,
   "id": "3f92f495",
   "metadata": {},
   "outputs": [
    {
     "name": "stdout",
     "output_type": "stream",
     "text": [
      "pydna with gb: True\n",
      "seqio with snapgene, then convert to dseqrecord: False\n",
      "seqio with snapgene, then convert to dseqrecord: True\n"
     ]
    }
   ],
   "source": [
    "from pydna.parsers import parse as pydna_parse\n",
    "from Bio.SeqIO import read as seqio_read\n",
    "from pydna.dseqrecord import Dseqrecord\n",
    "# Pydna reader gets it right from the genbank file:\n",
    "dseqrecords = pydna_parse('../plasmids/addgene-plasmid-39296-sequence-49545.gbk')\n",
    "print('pydna with gb:',dseqrecords[0].circular)\n",
    "\n",
    "seqrecord = seqio_read('../plasmids/addgene-plasmid-39296-sequence-49545.dna','snapgene')\n",
    "\n",
    "# Simple conversion will not get right the fact that it is circular\n",
    "dseqrecord = Dseqrecord(seqrecord)\n",
    "print('seqio with snapgene, then convert to dseqrecord:',dseqrecord.circular)\n",
    "\n",
    "# Check in the properties to tell if the topology is circular\n",
    "iscircular = 'topology' in seqrecord.annotations.keys() and seqrecord.annotations['topology'] == 'circular'\n",
    "dseqrecord = Dseqrecord(seqrecord, circular=iscircular)\n",
    "print('seqio with snapgene, then convert to dseqrecord:',dseqrecord.circular)\n"
   ]
  },
  {
   "cell_type": "markdown",
   "id": "537a4464",
   "metadata": {},
   "source": [
    "## Restriction enzymes"
   ]
  },
  {
   "cell_type": "code",
   "execution_count": 58,
   "id": "1e550ab5",
   "metadata": {},
   "outputs": [
    {
     "name": "stdout",
     "output_type": "stream",
     "text": [
      "linear\n",
      "11 AAAAAAGAATT\n",
      "13 AATTCTTTTTTTT\n",
      "22\n",
      "<class 'pydna.dseq.Dseq'>\n",
      "40\n",
      "<class 'pydna.dseq.Dseq'>\n"
     ]
    }
   ],
   "source": [
    "# List of commercial enzymes\n",
    "from Bio.Restriction.Restriction import CommOnly\n",
    "from pydna.dseqrecord import Dseqrecord\n",
    "\n",
    "enzyme = CommOnly.format('EcoRI')\n",
    "\n",
    "# If we want to know where the enzymes cut in the original sequence\n",
    "# For linear fragments it's easy, just need to know the boundaries\n",
    "# We know that EcoRI should cut after the G here\n",
    "seq = 'AAAAAAGAATTCTTTTTTTT'\n",
    "dseq = Dseqrecord(seq,circular=False)\n",
    "\n",
    "cutted_list = dseq.cut([enzyme])\n",
    "print('linear')\n",
    "\n",
    "for i in cutted_list:\n",
    "    print(len(i),i.seq)\n",
    "    \n",
    "# What about circular sequences?\n",
    "seq = 'AAAAAAGAATTCTTTTTTAAAGAATTCCCCCCC'\n",
    "dseq = Dseqrecord(seq,circular=True)\n",
    "cutted_list = dseq.seq.cut([enzyme])\n",
    "\n",
    "for i in cutted_list:\n",
    "    print(i.pos)\n",
    "    print(type(i))"
   ]
  }
 ],
 "metadata": {
  "kernelspec": {
   "display_name": "ShareYourCloning_backend_fastAPI",
   "language": "python",
   "name": "shareyourcloning_backend_fastapi"
  },
  "language_info": {
   "codemirror_mode": {
    "name": "ipython",
    "version": 3
   },
   "file_extension": ".py",
   "mimetype": "text/x-python",
   "name": "python",
   "nbconvert_exporter": "python",
   "pygments_lexer": "ipython3",
   "version": "3.9.7"
  }
 },
 "nbformat": 4,
 "nbformat_minor": 5
}
