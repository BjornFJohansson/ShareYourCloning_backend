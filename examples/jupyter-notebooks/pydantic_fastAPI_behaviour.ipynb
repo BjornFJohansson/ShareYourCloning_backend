{
 "cells": [
  {
   "cell_type": "markdown",
   "id": "b39df8fb",
   "metadata": {},
   "source": [
    "# Pydantic / fastAPI behaviour\n",
    "\n",
    "Some useful tests to understand the libraries better"
   ]
  },
  {
   "cell_type": "code",
   "execution_count": null,
   "id": "e6b8de52",
   "metadata": {},
   "outputs": [],
   "source": [
    "from pydantic import BaseModel\n",
    "\n",
    "class PersonClass(Basemodel):\n",
    "    name: str = None\n",
    "    surname: str = None\n",
    "    location: str = None\n",
    "\n",
    "class MarieCurieClass():\n",
    "    def __init_subclass__"
   ]
  }
 ],
 "metadata": {
  "kernelspec": {
   "display_name": "ShareYourCloning_backend_fastAPI",
   "language": "python",
   "name": "shareyourcloning_backend_fastapi"
  },
  "language_info": {
   "codemirror_mode": {
    "name": "ipython",
    "version": 3
   },
   "file_extension": ".py",
   "mimetype": "text/x-python",
   "name": "python",
   "nbconvert_exporter": "python",
   "pygments_lexer": "ipython3",
   "version": "3.9.7"
  }
 },
 "nbformat": 4,
 "nbformat_minor": 5
}
