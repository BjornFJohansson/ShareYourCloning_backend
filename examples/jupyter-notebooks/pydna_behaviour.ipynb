{
 "cells": [
  {
   "cell_type": "markdown",
   "id": "51fdd0bb",
   "metadata": {},
   "source": [
    "# Pydna / Biopython behaviour\n",
    "\n",
    "Here some code chunks showing some important points from biopython / pydna"
   ]
  },
  {
   "cell_type": "markdown",
   "id": "59d885cd",
   "metadata": {},
   "source": [
    "## How to know if a sequence is circular or linear\n",
    "\n",
    "This is important, and might not be straightforward from certain formats."
   ]
  },
  {
   "cell_type": "code",
   "execution_count": 40,
   "id": "3f92f495",
   "metadata": {},
   "outputs": [
    {
     "name": "stdout",
     "output_type": "stream",
     "text": [
      "pydna with gb: True\n",
      "seqio with snapgene, then convert to dseqrecord: False\n",
      "seqio with snapgene, then convert to dseqrecord: True\n"
     ]
    }
   ],
   "source": [
    "from pydna.parsers import parse as pydna_parse\n",
    "from Bio.SeqIO import read as seqio_read\n",
    "from pydna.dseqrecord import Dseqrecord\n",
    "# Pydna reader gets it right from the genbank file:\n",
    "dseqrecords = pydna_parse('../plasmids/addgene-plasmid-39296-sequence-49545.gbk')\n",
    "print('pydna with gb:',dseqrecords[0].circular)\n",
    "\n",
    "seqrecord = seqio_read('../plasmids/addgene-plasmid-39296-sequence-49545.dna','snapgene')\n",
    "\n",
    "# Simple conversion will not get right the fact that it is circular\n",
    "dseqrecord = Dseqrecord(seqrecord)\n",
    "print('seqio with snapgene, then convert to dseqrecord:',dseqrecord.circular)\n",
    "\n",
    "# Check in the properties to tell if the topology is circular\n",
    "iscircular = 'topology' in seqrecord.annotations.keys() and seqrecord.annotations['topology'] == 'circular'\n",
    "dseqrecord = Dseqrecord(seqrecord, circular=iscircular)\n",
    "print('seqio with snapgene, then convert to dseqrecord:',dseqrecord.circular)\n"
   ]
  }
 ],
 "metadata": {
  "kernelspec": {
   "display_name": "ShareYourCloning_backend_fastAPI",
   "language": "python",
   "name": "shareyourcloning_backend_fastapi"
  },
  "language_info": {
   "codemirror_mode": {
    "name": "ipython",
    "version": 3
   },
   "file_extension": ".py",
   "mimetype": "text/x-python",
   "name": "python",
   "nbconvert_exporter": "python",
   "pygments_lexer": "ipython3",
   "version": "3.9.7"
  }
 },
 "nbformat": 4,
 "nbformat_minor": 5
}
