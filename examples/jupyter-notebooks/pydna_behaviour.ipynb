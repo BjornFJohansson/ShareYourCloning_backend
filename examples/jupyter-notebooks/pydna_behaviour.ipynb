{
 "cells": [
  {
   "cell_type": "markdown",
   "id": "51fdd0bb",
   "metadata": {},
   "source": [
    "# Pydna / Biopython behaviour\n",
    "\n",
    "Here some code chunks showing some important points from biopython / pydna"
   ]
  },
  {
   "cell_type": "markdown",
   "id": "397633f4",
   "metadata": {},
   "source": [
    "## How to know if a sequence is circular or linear\n",
    "\n",
    "This is important, and might not be straightforward from certain formats."
   ]
  },
  {
   "cell_type": "code",
   "execution_count": 40,
   "id": "3f92f495",
   "metadata": {},
   "outputs": [
    {
     "name": "stdout",
     "output_type": "stream",
     "text": [
      "pydna with gb: True\n",
      "seqio with snapgene, then convert to dseqrecord: False\n",
      "seqio with snapgene, then convert to dseqrecord: True\n"
     ]
    }
   ],
   "source": [
    "from pydna.parsers import parse as pydna_parse\n",
    "from Bio.SeqIO import read as seqio_read\n",
    "from pydna.dseqrecord import Dseqrecord\n",
    "# Pydna reader gets it right from the genbank file:\n",
    "dseqrecords = pydna_parse('../plasmids/addgene-plasmid-39296-sequence-49545.gbk')\n",
    "print('pydna with gb:',dseqrecords[0].circular)\n",
    "\n",
    "seqrecord = seqio_read('../plasmids/addgene-plasmid-39296-sequence-49545.dna','snapgene')\n",
    "\n",
    "# Simple conversion will not get right the fact that it is circular\n",
    "dseqrecord = Dseqrecord(seqrecord)\n",
    "print('seqio with snapgene, then convert to dseqrecord:',dseqrecord.circular)\n",
    "\n",
    "# Check in the properties to tell if the topology is circular\n",
    "iscircular = 'topology' in seqrecord.annotations.keys() and seqrecord.annotations['topology'] == 'circular'\n",
    "dseqrecord = Dseqrecord(seqrecord, circular=iscircular)\n",
    "print('seqio with snapgene, then convert to dseqrecord:',dseqrecord.circular)\n"
   ]
  },
  {
   "cell_type": "markdown",
   "id": "537a4464",
   "metadata": {},
   "source": [
    "## Restriction enzymes"
   ]
  },
  {
   "cell_type": "code",
   "execution_count": 2,
   "id": "1e550ab5",
   "metadata": {},
   "outputs": [
    {
     "name": "stdout",
     "output_type": "stream",
     "text": [
      "linear\n",
      "0\n",
      "7\n",
      "circular\n",
      "22\n",
      "40\n"
     ]
    }
   ],
   "source": [
    "# List of commercial enzymes\n",
    "from Bio.Restriction.Restriction import CommOnly\n",
    "from pydna.dseqrecord import Dseqrecord\n",
    "\n",
    "enzyme = CommOnly.format('EcoRI')\n",
    "\n",
    "# If we want to know where the enzymes cut in the original sequence\n",
    "# we use the dseq.cut() method rather than the dseqrecord.cut() one,\n",
    "# the resulting fragments have a dseq.pos parameter that indicates the\n",
    "# position of the fragment in the original sequence\n",
    "\n",
    "seq = 'AAAAAAGAATTCTTTTTTTT'\n",
    "dseq = Dseqrecord(seq,circular=False)\n",
    "cutted_list = dseq.seq.cut([enzyme])    \n",
    "print('linear')\n",
    "for i in cutted_list:\n",
    "    print(i.pos)\n",
    "\n",
    "seq = 'AAAAAAGAATTCTTTTTTAAAGAATTCCCCCCC'\n",
    "dseq = Dseqrecord(seq,circular=True)\n",
    "cutted_list = dseq.seq.cut([enzyme])\n",
    "print('circular')\n",
    "for i in cutted_list:\n",
    "    print(i.pos)\n"
   ]
  },
  {
   "cell_type": "markdown",
   "id": "7c4af946",
   "metadata": {},
   "source": [
    "## Requesting genes to Genbank\n",
    "\n",
    "What happens when Genbank is down?"
   ]
  },
  {
   "cell_type": "code",
   "execution_count": 22,
   "id": "874aac39",
   "metadata": {},
   "outputs": [
    {
     "name": "stdout",
     "output_type": "stream",
     "text": [
      "[Errno 8] nodename nor servname provided, or not known <class 'socket.gaierror'>\n"
     ]
    }
   ],
   "source": [
    "from pydna.genbank import Genbank\n",
    "from pydna.dseqrecord import Dseqrecord\n",
    "# The HTTPError is taken from this library\n",
    "from urllib.error import HTTPError, URLError\n",
    "\n",
    "\n",
    "gb = Genbank(\"example@gmail.com\")\n",
    "\n",
    "# A request when genbank is down (returns 'HTTP Error 500: Internal Server Error')\n",
    "try:\n",
    "    seq = Dseqrecord(gb.nucleotide('NM_001018957.2'))\n",
    "    print(seq)\n",
    "except HTTPError as exception:\n",
    "    print(exception)\n",
    "    print(repr(exception))\n",
    "except URLError as exception:\n",
    "    print(exception.reason, type(exception.reason))\n",
    "\n",
    "\n",
    "\n",
    "    "
   ]
  },
  {
   "cell_type": "code",
   "execution_count": 15,
   "id": "b156b056",
   "metadata": {},
   "outputs": [
    {
     "name": "stdout",
     "output_type": "stream",
     "text": [
      "HTTP Error 400: Bad Request\n",
      "<HTTPError 400: 'Bad Request'>\n"
     ]
    }
   ],
   "source": [
    "# A request when the id does not exist\n",
    "try:\n",
    "    seq = Dseqrecord(gb.nucleotide('doesntexist'))\n",
    "except HTTPError as exception:\n",
    "    print(exception)\n",
    "    print(repr(exception))\n",
    "    "
   ]
  },
  {
   "cell_type": "markdown",
   "id": "ac42b7db",
   "metadata": {},
   "source": [
    "## Ligation with sticky ends\n"
   ]
  },
  {
   "cell_type": "code",
   "execution_count": 24,
   "id": "c585aece",
   "metadata": {},
   "outputs": [
    {
     "name": "stdout",
     "output_type": "stream",
     "text": [
      "Joining sticky ends----\n",
      "Dseq(-20)\n",
      "AAAAAAGAATTCTTTTTTTT\n",
      "TTTTTTCTTAAGAAAAAAAA\n",
      "Joining blunt ends----\n",
      "Dseq(-24)\n",
      "AATTCTTTTTTTTAAAAAAG\n",
      "    GAAAAAAAATTTTTTCTTAA\n",
      "\n",
      "Dseq(-16)\n",
      "AATTCAAAAAAG\n",
      "    GTTTTTTCTTAA\n",
      "Dseq(-18)\n",
      "AATTCTAAACCCTG\n",
      "    GATTTGGGACTTAA\n",
      "\n",
      "Assembly of the same fragment in both directions ----\n",
      "AATTCAAAAAAGAATTCTAAACCCTG\n",
      "AATTCTAAACCCTGAATTCAAAAAAG\n"
     ]
    }
   ],
   "source": [
    "from pydna.dseqrecord import Dseqrecord\n",
    "from Bio.Restriction.Restriction import CommOnly\n",
    "\n",
    "# When only one orientation is possible\n",
    "\n",
    "enzyme = CommOnly.format('EcoRI')\n",
    "seq = 'AAAAAAGAATTCTTTTTTTT'\n",
    "dseq = Dseqrecord(seq,circular=False)\n",
    "cutted_list = dseq.seq.cut([enzyme])\n",
    "\n",
    "print('Joining sticky ends----')\n",
    "print(repr(cutted_list[0] + cutted_list[1]))\n",
    "\n",
    "# Order matters (This is a blunt end join of the ends)\n",
    "print('Joining blunt ends----')\n",
    "print(repr(cutted_list[1] + cutted_list[0]))\n",
    "\n",
    "# When two orientations are possible\n",
    "seq = 'AAAAAAGAATTCTAAACCCTGAATTC'\n",
    "dseq = Dseqrecord(seq,circular=True)\n",
    "cutted_list = dseq.seq.cut([enzyme])\n",
    "\n",
    "print()\n",
    "print(repr(cutted_list[0]))\n",
    "print(repr(cutted_list[1]))\n",
    "\n",
    "# Note how order matters in the sum when a fragment can be inserted in both directions\n",
    "pre_assemble1 = cutted_list[0] + cutted_list[1]\n",
    "pre_assemble2 = cutted_list[1] + cutted_list[0]\n",
    "\n",
    "print()\n",
    "print('Assembly of the same fragment in both directions ----')\n",
    "print(pre_assemble1.looped())\n",
    "print(pre_assemble2.looped())\n",
    "\n",
    "\n",
    "\n"
   ]
  },
  {
   "cell_type": "code",
   "execution_count": 8,
   "id": "be959901",
   "metadata": {},
   "outputs": [
    {
     "name": "stdout",
     "output_type": "stream",
     "text": [
      "[5, 4, 3, 1, 2, 0]\n",
      "[<__main__.Hello object at 0x10683faf0>, <__main__.Hello object at 0x10683f2b0>, <__main__.Hello object at 0x10683f9a0>]\n"
     ]
    }
   ],
   "source": [
    "# eliminating duplicates\n",
    "\n",
    "inp = [0,1,2,3,1,1,3,4,5]\n",
    "out = []\n",
    "while(len(inp)):\n",
    "    value = inp.pop()\n",
    "    if value not in out:\n",
    "        out.append(value)\n",
    "print(out)\n",
    "\n",
    "# Custom set unique function\n",
    "\n",
    "class Hello:\n",
    "    def __init__(self,i):\n",
    "        self.val = i\n",
    "    def __eq__(self,other):\n",
    "        return self.val == other.val\n",
    "    def __str__(self):\n",
    "        return str(self.val)\n",
    "\n",
    "the_list = [Hello(1),Hello(2),Hello(2)]\n",
    "print(the_list)\n",
    "\n"
   ]
  },
  {
   "cell_type": "code",
   "execution_count": 22,
   "id": "3dbe4a41",
   "metadata": {},
   "outputs": [
    {
     "data": {
      "text/plain": [
       "[1]"
      ]
     },
     "execution_count": 22,
     "metadata": {},
     "output_type": "execute_result"
    }
   ],
   "source": [
    "from itertools import chain\n",
    "list(chain.from_iterable([[1, -1], [2, -2], [3, -3]]))\n",
    "chain([1,2,3,4,5])\n",
    "\n",
    "# sum([1,2,3,4])\n",
    "sum([[1, -1], [2, -2], [3, -3]],[])\n",
    "\n",
    "a = [1]\n",
    "a[1:]\n",
    "\n",
    "sum(a[1:],a[0:1])"
   ]
  }
 ],
 "metadata": {
  "kernelspec": {
   "display_name": "ShareYourCloning_backend_fastAPI",
   "language": "python",
   "name": "shareyourcloning_backend_fastapi"
  },
  "language_info": {
   "codemirror_mode": {
    "name": "ipython",
    "version": 3
   },
   "file_extension": ".py",
   "mimetype": "text/x-python",
   "name": "python",
   "nbconvert_exporter": "python",
   "pygments_lexer": "ipython3",
   "version": "3.9.7"
  }
 },
 "nbformat": 4,
 "nbformat_minor": 5
}
