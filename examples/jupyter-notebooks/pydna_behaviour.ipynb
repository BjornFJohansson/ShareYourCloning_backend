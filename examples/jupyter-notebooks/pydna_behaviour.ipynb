{
 "cells": [
  {
   "cell_type": "markdown",
   "id": "51fdd0bb",
   "metadata": {},
   "source": [
    "# Pydna / Biopython behaviour\n",
    "\n",
    "Here some code chunks showing some important points from biopython / pydna"
   ]
  },
  {
   "cell_type": "markdown",
   "id": "397633f4",
   "metadata": {},
   "source": [
    "## How to know if a sequence is circular or linear\n",
    "\n",
    "This is important, and might not be straightforward from certain formats."
   ]
  },
  {
   "cell_type": "code",
   "execution_count": 40,
   "id": "3f92f495",
   "metadata": {},
   "outputs": [
    {
     "name": "stdout",
     "output_type": "stream",
     "text": [
      "pydna with gb: True\n",
      "seqio with snapgene, then convert to dseqrecord: False\n",
      "seqio with snapgene, then convert to dseqrecord: True\n"
     ]
    }
   ],
   "source": [
    "from pydna.parsers import parse as pydna_parse\n",
    "from Bio.SeqIO import read as seqio_read\n",
    "from pydna.dseqrecord import Dseqrecord\n",
    "# Pydna reader gets it right from the genbank file:\n",
    "dseqrecords = pydna_parse('../plasmids/addgene-plasmid-39296-sequence-49545.gbk')\n",
    "print('pydna with gb:',dseqrecords[0].circular)\n",
    "\n",
    "seqrecord = seqio_read('../plasmids/addgene-plasmid-39296-sequence-49545.dna','snapgene')\n",
    "\n",
    "# Simple conversion will not get right the fact that it is circular\n",
    "dseqrecord = Dseqrecord(seqrecord)\n",
    "print('seqio with snapgene, then convert to dseqrecord:',dseqrecord.circular)\n",
    "\n",
    "# Check in the properties to tell if the topology is circular\n",
    "iscircular = 'topology' in seqrecord.annotations.keys() and seqrecord.annotations['topology'] == 'circular'\n",
    "dseqrecord = Dseqrecord(seqrecord, circular=iscircular)\n",
    "print('seqio with snapgene, then convert to dseqrecord:',dseqrecord.circular)\n"
   ]
  },
  {
   "cell_type": "markdown",
   "id": "537a4464",
   "metadata": {},
   "source": [
    "## Restriction enzymes"
   ]
  },
  {
   "cell_type": "code",
   "execution_count": 2,
   "id": "1e550ab5",
   "metadata": {},
   "outputs": [
    {
     "name": "stdout",
     "output_type": "stream",
     "text": [
      "linear\n",
      "0\n",
      "7\n",
      "circular\n",
      "22\n",
      "40\n"
     ]
    }
   ],
   "source": [
    "# List of commercial enzymes\n",
    "from Bio.Restriction.Restriction import CommOnly\n",
    "from pydna.dseqrecord import Dseqrecord\n",
    "\n",
    "enzyme = CommOnly.format('EcoRI')\n",
    "\n",
    "# If we want to know where the enzymes cut in the original sequence\n",
    "# we use the dseq.cut() method rather than the dseqrecord.cut() one,\n",
    "# the resulting fragments have a dseq.pos parameter that indicates the\n",
    "# position of the fragment in the original sequence\n",
    "\n",
    "seq = 'AAAAAAGAATTCTTTTTTTT'\n",
    "dseq = Dseqrecord(seq,circular=False)\n",
    "cutted_list = dseq.seq.cut([enzyme])    \n",
    "print('linear')\n",
    "for i in cutted_list:\n",
    "    print(i.pos)\n",
    "\n",
    "seq = 'AAAAAAGAATTCTTTTTTAAAGAATTCCCCCCC'\n",
    "dseq = Dseqrecord(seq,circular=True)\n",
    "cutted_list = dseq.seq.cut([enzyme])\n",
    "print('circular')\n",
    "for i in cutted_list:\n",
    "    print(i.pos)\n"
   ]
  },
  {
   "cell_type": "markdown",
   "id": "1b0e01b9",
   "metadata": {},
   "source": [
    "## Overhangs\n",
    "\n",
    "`pydna` manages overhangs using the `dseq` parameter `ovhg`, an integer that indicates how much the watson strain protrudes at the 5' end. This value can be an integer if the sequences has a 5' extension there, or negative otherwise."
   ]
  },
  {
   "cell_type": "code",
   "execution_count": 39,
   "id": "e7befaa0",
   "metadata": {},
   "outputs": [
    {
     "name": "stdout",
     "output_type": "stream",
     "text": [
      "dseq GGGAACC\n",
      "dseq actual shape:\n",
      " Dseq(-7)\n",
      "GGGAA\n",
      "   TTGG\n",
      "Dseq(-7)\n",
      "GGGAA\n",
      "   TTGG\n"
     ]
    },
    {
     "data": {
      "text/plain": [
       "(-3, -2)"
      ]
     },
     "execution_count": 39,
     "metadata": {},
     "output_type": "execute_result"
    }
   ],
   "source": [
    "from pydna.dseq import Dseq\n",
    "\n",
    "# See this example\n",
    "dseq = Dseq(watson='GGGAA',ovhg=-3,crick='GGTT')\n",
    "print('dseq',dseq)\n",
    "\n",
    "print('dseq actual shape:\\n',repr(dseq))\n",
    "\n",
    "# To store this in the Sequence object of the API, we instead store the 5' and 3' overhangs\n",
    "# To get this same molecule:\n",
    "full_sequence = dseq\n",
    "full_sequence_rev = full_sequence.reverse_complement()\n",
    "\n",
    "def dseqFromBothOverhangs(full_sequence,overhang_watson,overhang_crick):\n",
    "    full_sequence_rev = str(Dseq(full_sequence).reverse_complement())\n",
    "    if overhang_watson<=0:\n",
    "        if overhang_crick>=0:\n",
    "            watson = full_sequence\n",
    "            crick = full_sequence_rev[overhang_crick:overhang_watson]\n",
    "        else:\n",
    "            watson = full_sequence[:overhang_crick]\n",
    "            crick = full_sequence_rev[:overhang_watson]\n",
    "    else:\n",
    "        if overhang_crick>=0:\n",
    "            watson = full_sequence[overhang_watson:]\n",
    "            crick = full_sequence_rev[overhang_crick:]\n",
    "        else:\n",
    "            watson = full_sequence[overhang_watson:overhang_crick]\n",
    "            crick = full_sequence_rev\n",
    "\n",
    "    return Dseq(watson,crick=crick,ovhg=overhang_watson)\n",
    "\n",
    "def bothOverhangsFromDseq(dseq):\n",
    "    return dseq.ovhg, len(dseq.watson) - len(dseq.crick) + dseq.ovhg\n",
    "\n",
    "new_dseq = dseqFromBothOverhangs(str(full_sequence),-3,-2)\n",
    "print(repr(new_dseq))\n",
    "bothOverhangsFromDseq(new_dseq)"
   ]
  }
 ],
 "metadata": {
  "kernelspec": {
   "display_name": "ShareYourCloning_backend_fastAPI",
   "language": "python",
   "name": "shareyourcloning_backend_fastapi"
  },
  "language_info": {
   "codemirror_mode": {
    "name": "ipython",
    "version": 3
   },
   "file_extension": ".py",
   "mimetype": "text/x-python",
   "name": "python",
   "nbconvert_exporter": "python",
   "pygments_lexer": "ipython3",
   "version": "3.9.7"
  }
 },
 "nbformat": 4,
 "nbformat_minor": 5
}
